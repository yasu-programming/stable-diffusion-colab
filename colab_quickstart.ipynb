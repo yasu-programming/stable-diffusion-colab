{
  "cells": [
    {
      "cell_type": "markdown",
      "metadata": {
        "id": "setup_header"
      },
      "source": [
        "# 🚀 Stable Diffusion Colab クイックスタート\n",
        "\n",
        "商用利用可能なStable Diffusionを使用してYouTube・Note用画像を生成します。\n",
        "\n",
        "## 📋 セットアップ手順\n",
        "1. **GPU設定**: ランタイム → ランタイムのタイプを変更 → GPU (T4) を選択\n",
        "2. **リポジトリクローン**: 下のセルを実行\n",
        "3. **セットアップ実行**: 自動セットアップスクリプトを実行\n",
        "4. **画像生成開始**: サンプルコードで画像生成"
      ]
    },
    {
      "cell_type": "markdown",
      "metadata": {
        "id": "step1_header"
      },
      "source": [
        "## 🔧 Step 1: リポジトリクローンとセットアップ"
      ]
    },
    {
      "cell_type": "code",
      "execution_count": null,
      "metadata": {
        "id": "clone_repo"
      },
      "outputs": [],
      "source": [
        "# リポジトリクローン\n",
        "!git clone https://github.com/YOUR_USERNAME/stable-diffusion-colab.git\n",
        "%cd stable-diffusion-colab\n",
        "\n",
        "# 自動セットアップ実行\n",
        "!python setup.py"
      ]
    },
    {
      "cell_type": "markdown",
      "metadata": {
        "id": "step2_header"
      },
      "source": [
        "## 🎨 Step 2: 画像生成テスト"
      ]
    },
    {
      "cell_type": "code",
      "execution_count": null,
      "metadata": {
        "id": "test_generation"
      },
      "outputs": [],
      "source": [
        "# クイックスタート実行\n",
        "!python quick_start.py"
      ]
    },
    {
      "cell_type": "markdown",
      "metadata": {
        "id": "step3_header"
      },
      "source": [
        "## 🖼️ Step 3: カスタム画像生成"
      ]
    },
    {
      "cell_type": "code",
      "execution_count": null,
      "metadata": {
        "id": "custom_generation"
      },
      "outputs": [],
      "source": [
        "from diffusers import StableDiffusionPipeline\n",
        "import torch\n",
        "from PIL import Image\n",
        "import matplotlib.pyplot as plt\n",
        "\n",
        "# パイプライン初期化（初回のみ時間がかかります）\n",
        "pipe = StableDiffusionPipeline.from_pretrained(\n",
        "    \"runwayml/stable-diffusion-v1-5\",\n",
        "    torch_dtype=torch.float16,\n",
        "    cache_dir=\"./models_cache\"\n",
        ")\n",
        "\n",
        "if torch.cuda.is_available():\n",
        "    pipe = pipe.to(\"cuda\")\n",
        "    pipe.enable_memory_efficient_attention()\n",
        "    pipe.enable_model_cpu_offload()\n",
        "\n",
        "print(\"✅ パイプライン初期化完了\")"
      ]
    },
    {
      "cell_type": "code",
      "execution_count": null,
      "metadata": {
        "id": "youtube_thumbnail"
      },
      "outputs": [],
      "source": [
        "# YouTubeサムネイル生成 (16:9)\n",
        "prompt = \"modern tech office, programmer working on multiple monitors, clean minimalist design, professional lighting, high quality\"\n",
        "negative_prompt = \"blurry, low quality, distorted, messy, unprofessional\"\n",
        "\n",
        "image = pipe(\n",
        "    prompt=prompt,\n",
        "    negative_prompt=negative_prompt,\n",
        "    width=896,\n",
        "    height=512,\n",
        "    num_inference_steps=20,\n",
        "    guidance_scale=7.5\n",
        ").images[0]\n",
        "\n",
        "# 表示\n",
        "plt.figure(figsize=(12, 6))\n",
        "plt.imshow(image)\n",
        "plt.axis(\"off\")\n",
        "plt.title(\"YouTube Thumbnail (16:9)\")\n",
        "plt.show()\n",
        "\n",
        "# 保存\n",
        "image.save(\"generated_images/youtube_thumbnail.png\")\n",
        "print(\"💾 YouTube サムネイル保存完了\")"
      ]
    },
    {
      "cell_type": "code",
      "execution_count": null,
      "metadata": {
        "id": "icon_generation"
      },
      "outputs": [],
      "source": [
        "# アイコン生成 (1:1)\n",
        "prompt = \"minimalist logo design, simple geometric shapes, modern color palette, clean vector style, professional\"\n",
        "negative_prompt = \"complex details, busy design, blurry, text, cluttered\"\n",
        "\n",
        "image = pipe(\n",
        "    prompt=prompt,\n",
        "    negative_prompt=negative_prompt,\n",
        "    width=512,\n",
        "    height=512,\n",
        "    num_inference_steps=25,\n",
        "    guidance_scale=8.0\n",
        ").images[0]\n",
        "\n",
        "# 表示\n",
        "plt.figure(figsize=(6, 6))\n",
        "plt.imshow(image)\n",
        "plt.axis(\"off\")\n",
        "plt.title(\"Icon (1:1)\")\n",
        "plt.show()\n",
        "\n",
        "# 保存\n",
        "image.save(\"generated_images/icon.png\")\n",
        "print(\"💾 アイコン保存完了\")"
      ]
    },
    {
      "cell_type": "markdown",
      "metadata": {
        "id": "step4_header"  \n      },
      "source": [
        "## 📁 Step 4: 生成画像のダウンロード"
      ]
    },
    {
      "cell_type": "code",
      "execution_count": null,
      "metadata": {
        "id": "download_images"
      },
      "outputs": [],
      "source": [
        "# 生成画像を一括ダウンロード\n",
        "import zipfile\n",
        "import os\n",
        "from google.colab import files\n",
        "\n",
        "# ZIPファイル作成\n",
        "with zipfile.ZipFile('generated_images.zip', 'w') as zipf:\n",
        "    for root, dirs, filenames in os.walk('generated_images'):\n",
        "        for filename in filenames:\n",
        "            if filename.endswith(('.png', '.jpg', '.jpeg')):\n",
        "                zipf.write(os.path.join(root, filename), filename)\n",
        "\n",
        "# ダウンロード\n",
        "files.download('generated_images.zip')\n",
        "print(\"📥 生成画像をダウンロードしました\")"
      ]
    },
    {
      "cell_type": "markdown",
      "metadata": {
        "id": "tips_header"
      },
      "source": [
        "## 💡 使用のコツ\n",
        "\n",
        "### プロンプト例\n",
        "- **技術系**: `modern tech office, programmer, clean design, professional lighting`\n",
        "- **料理系**: `delicious food photography, warm lighting, appetizing, professional styling`\n",
        "- **ビジネス**: `successful business person, modern office, professional attire, motivational`\n",
        "\n",
        "### パラメータ調整\n",
        "- `num_inference_steps`: 15-25 (速度重視) / 30-50 (品質重視)\n",
        "- `guidance_scale`: 6-8 (自然) / 10-15 (プロンプト厳密)\n",
        "\n",
        "### サイズ設定\n",
        "- YouTubeサムネイル: 896x512 または 1280x720\n",
        "- アイコン: 512x512 または 768x768\n",
        "- Note記事: 896x504 (16:9) または 768x576 (4:3)\n",
        "\n",
        "### 📚 詳細は docs/ フォルダの各ドキュメントをご参照ください"
      ]
    }
  ],
  "metadata": {
    "accelerator": "GPU",
    "colab": {
      "gpuType": "T4",
      "provenance": []
    },
    "kernelspec": {
      "display_name": "Python 3",
      "name": "python3"
    },
    "language_info": {
      "name": "python"
    }
  },
  "nbformat": 4,
  "nbformat_minor": 0
}